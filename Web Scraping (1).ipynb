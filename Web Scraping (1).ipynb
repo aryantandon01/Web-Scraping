{
 "cells": [
  {
   "cell_type": "code",
   "execution_count": 128,
   "metadata": {},
   "outputs": [],
   "source": [
    "from autoscraper import AutoScraper"
   ]
  },
  {
   "cell_type": "code",
   "execution_count": 132,
   "metadata": {},
   "outputs": [],
   "source": [
    "amazon_url=\"https://www.houzz.in/professionals/civil-engineers-and-contractors/c/Chennai--Tamil-Nadu\"\n",
    "\n",
    "wanted_list=[\"16 Narivanam Salai, mangadu, Chennai, Tamil Nadu, 600122\",\"Chennai Renovation\"]"
   ]
  },
  {
   "cell_type": "code",
   "execution_count": 133,
   "metadata": {},
   "outputs": [
    {
     "name": "stdout",
     "output_type": "stream",
     "text": [
      "['16 Narivanam Salai, mangadu, Chennai, Tamil Nadu, 600122', '#10, Uthamar Gandhi Salai, Nungambakkam High Rd, Nungambakkam, Chennai, Tamil Nadu 600034, Chennai, Tamil Nadu, 600034', 'MMC, Chennai - 51, Chennai, Tamil Nadu, 600051', 'NO:115, DR RADHAKRISHNAN NAGAR, VEPAMPATTU, CHENNAI, Tamil Nadu, 602024', 'hanuman colony, injambakkam, chennai, Tamil Nadu, 600115', 'Chennai, Tamil Nadu, 600073', '36/2, IInd, New Tank Bund Rd, Otteri, Chennai, Tamil Nadu 600012, Chennai, Tamil Nadu, 600012', '63/18 FIRST FLOOR 10TH AVENEUE ASHOK NAGAR, CHENNAI, Tamil Nadu, 600083', 'Chennai, Tamil Nadu, 600087', '18,Viswa Meena Complex,8th Cross Street,Ram Nagar South, Madipakkam, Chennai, Tamil Nadu, 600091', '12A, John Desikar Street, Nanganallur, Chennai-600061, Chennai, Tamil Nadu, 600061', 'NO.9, KANCHI NAGAR, VINAYAGAPURAM,, CHENNAI, Tamil Nadu, india', 'Jupiter Complex, Dr Ranga Road, MYALAPORE, Chennai, India, Tamil Nadu, 600004', '94A,NORTH PHASE,SIDCO INDUSTRIAL ESTATE, AMBATTUR,CHENNAI-600098, CHENNAI, Tamil Nadu, 600098', 'Chennai Renovation', 'Olive Lifestyles Construction', 'GK Shree Constructions', 'CDC ENGINEERING & CONTRACTS', 'Skypearl construction private limited', 'Civil engineer and contractor', 'Jhanvi Housing (P) Ltd', 'KH CONSTRUCTIONS', 'Aurora Associates', 'Wahoo Builders', 'Strucspec', 'CSK BUILDERS AND PROMOTERS', 'Boltz Engineering', 'PSR ENTERPRISES']\n"
     ]
    }
   ],
   "source": [
    "scraper=AutoScraper()\n",
    "result=scraper.build(amazon_url,wanted_list)\n",
    "print(result)"
   ]
  },
  {
   "cell_type": "code",
   "execution_count": 134,
   "metadata": {},
   "outputs": [
    {
     "name": "stdout",
     "output_type": "stream",
     "text": [
      "{'rule_qw40': ['16 Narivanam Salai, mangadu, Chennai, Tamil Nadu, 600122', '#10, Uthamar Gandhi Salai, Nungambakkam High Rd, Nungambakkam, Chennai, Tamil Nadu 600034, Chennai, Tamil Nadu, 600034', 'MMC, Chennai - 51, Chennai, Tamil Nadu, 600051', 'NO:115, DR RADHAKRISHNAN NAGAR, VEPAMPATTU, CHENNAI, Tamil Nadu, 602024', 'hanuman colony, injambakkam, chennai, Tamil Nadu, 600115', 'Chennai, Tamil Nadu, 600073', '36/2, IInd, New Tank Bund Rd, Otteri, Chennai, Tamil Nadu 600012, Chennai, Tamil Nadu, 600012', '63/18 FIRST FLOOR 10TH AVENEUE ASHOK NAGAR, CHENNAI, Tamil Nadu, 600083', 'Chennai, Tamil Nadu, 600087', '18,Viswa Meena Complex,8th Cross Street,Ram Nagar South, Madipakkam, Chennai, Tamil Nadu, 600091', '12A, John Desikar Street, Nanganallur, Chennai-600061, Chennai, Tamil Nadu, 600061', 'NO.9, KANCHI NAGAR, VINAYAGAPURAM,, CHENNAI, Tamil Nadu, india', 'Jupiter Complex, Dr Ranga Road, MYALAPORE, Chennai, India, Tamil Nadu, 600004', '94A,NORTH PHASE,SIDCO INDUSTRIAL ESTATE, AMBATTUR,CHENNAI-600098, CHENNAI, Tamil Nadu, 600098'], 'rule_2rla': ['Chennai Renovation'], 'rule_ci12': ['Chennai Renovation', 'Olive Lifestyles Construction', 'GK Shree Constructions', 'CDC ENGINEERING & CONTRACTS', 'Skypearl construction private limited', 'Civil engineer and contractor', 'Jhanvi Housing (P) Ltd', 'KH CONSTRUCTIONS', 'Aurora Associates', 'Wahoo Builders', 'Strucspec', 'CSK BUILDERS AND PROMOTERS', 'Boltz Engineering', 'PSR ENTERPRISES']}\n"
     ]
    }
   ],
   "source": [
    "data = scraper.get_result_similar(amazon_url, grouped=True)\n",
    "print(data)"
   ]
  },
  {
   "cell_type": "code",
   "execution_count": 136,
   "metadata": {},
   "outputs": [
    {
     "name": "stdout",
     "output_type": "stream",
     "text": [
      "['rule_qw40', 'rule_2rla', 'rule_ci12']\n"
     ]
    }
   ],
   "source": [
    "key = list(data.keys())\n",
    "print(key)"
   ]
  },
  {
   "cell_type": "code",
   "execution_count": 137,
   "metadata": {},
   "outputs": [],
   "source": [
    "scraper.set_rule_aliases({key[0]:'Name',key[2]:'Address'})\n",
    "scraper.keep_rules([key[0], key[2]])\n",
    "scraper.save('amazon-search')"
   ]
  },
  {
   "cell_type": "code",
   "execution_count": 138,
   "metadata": {},
   "outputs": [],
   "source": [
    "results=scraper.get_result_similar('https://www.houzz.in/professionals/civil-engineers-and-contractors/c/Chennai--Tamil-Nadu',group_by_alias=True)"
   ]
  },
  {
   "cell_type": "code",
   "execution_count": 139,
   "metadata": {},
   "outputs": [
    {
     "data": {
      "text/plain": [
       "['Chennai Renovation',\n",
       " 'Olive Lifestyles Construction',\n",
       " 'GK Shree Constructions',\n",
       " 'CDC ENGINEERING & CONTRACTS',\n",
       " 'Skypearl construction private limited',\n",
       " 'Civil engineer and contractor',\n",
       " 'Jhanvi Housing (P) Ltd',\n",
       " 'KH CONSTRUCTIONS',\n",
       " 'Aurora Associates',\n",
       " 'Wahoo Builders',\n",
       " 'Strucspec',\n",
       " 'CSK BUILDERS AND PROMOTERS',\n",
       " 'Boltz Engineering',\n",
       " 'PSR ENTERPRISES']"
      ]
     },
     "execution_count": 139,
     "metadata": {},
     "output_type": "execute_result"
    }
   ],
   "source": [
    "results['Address']"
   ]
  },
  {
   "cell_type": "code",
   "execution_count": 140,
   "metadata": {},
   "outputs": [
    {
     "data": {
      "text/html": [
       "<div>\n",
       "<style scoped>\n",
       "    .dataframe tbody tr th:only-of-type {\n",
       "        vertical-align: middle;\n",
       "    }\n",
       "\n",
       "    .dataframe tbody tr th {\n",
       "        vertical-align: top;\n",
       "    }\n",
       "\n",
       "    .dataframe thead th {\n",
       "        text-align: right;\n",
       "    }\n",
       "</style>\n",
       "<table border=\"1\" class=\"dataframe\">\n",
       "  <thead>\n",
       "    <tr style=\"text-align: right;\">\n",
       "      <th></th>\n",
       "      <th>Name</th>\n",
       "      <th>Address</th>\n",
       "    </tr>\n",
       "  </thead>\n",
       "  <tbody>\n",
       "    <tr>\n",
       "      <td>0</td>\n",
       "      <td>16 Narivanam Salai, mangadu, Chennai, Tamil Na...</td>\n",
       "      <td>Chennai Renovation</td>\n",
       "    </tr>\n",
       "    <tr>\n",
       "      <td>1</td>\n",
       "      <td>#10, Uthamar Gandhi Salai, Nungambakkam High R...</td>\n",
       "      <td>Olive Lifestyles Construction</td>\n",
       "    </tr>\n",
       "    <tr>\n",
       "      <td>2</td>\n",
       "      <td>MMC, Chennai - 51, Chennai, Tamil Nadu, 600051</td>\n",
       "      <td>GK Shree Constructions</td>\n",
       "    </tr>\n",
       "    <tr>\n",
       "      <td>3</td>\n",
       "      <td>NO:115, DR RADHAKRISHNAN NAGAR, VEPAMPATTU, CH...</td>\n",
       "      <td>CDC ENGINEERING &amp; CONTRACTS</td>\n",
       "    </tr>\n",
       "    <tr>\n",
       "      <td>4</td>\n",
       "      <td>hanuman colony, injambakkam, chennai, Tamil Na...</td>\n",
       "      <td>Skypearl construction private limited</td>\n",
       "    </tr>\n",
       "    <tr>\n",
       "      <td>5</td>\n",
       "      <td>Chennai, Tamil Nadu, 600073</td>\n",
       "      <td>Civil engineer and contractor</td>\n",
       "    </tr>\n",
       "    <tr>\n",
       "      <td>6</td>\n",
       "      <td>36/2, IInd, New Tank Bund Rd, Otteri, Chennai,...</td>\n",
       "      <td>Jhanvi Housing (P) Ltd</td>\n",
       "    </tr>\n",
       "    <tr>\n",
       "      <td>7</td>\n",
       "      <td>63/18 FIRST FLOOR 10TH AVENEUE ASHOK NAGAR, CH...</td>\n",
       "      <td>KH CONSTRUCTIONS</td>\n",
       "    </tr>\n",
       "    <tr>\n",
       "      <td>8</td>\n",
       "      <td>Chennai, Tamil Nadu, 600087</td>\n",
       "      <td>Aurora Associates</td>\n",
       "    </tr>\n",
       "    <tr>\n",
       "      <td>9</td>\n",
       "      <td>18,Viswa Meena Complex,8th Cross Street,Ram Na...</td>\n",
       "      <td>Wahoo Builders</td>\n",
       "    </tr>\n",
       "    <tr>\n",
       "      <td>10</td>\n",
       "      <td>12A, John Desikar Street, Nanganallur, Chennai...</td>\n",
       "      <td>Strucspec</td>\n",
       "    </tr>\n",
       "    <tr>\n",
       "      <td>11</td>\n",
       "      <td>NO.9, KANCHI NAGAR, VINAYAGAPURAM,, CHENNAI, T...</td>\n",
       "      <td>CSK BUILDERS AND PROMOTERS</td>\n",
       "    </tr>\n",
       "    <tr>\n",
       "      <td>12</td>\n",
       "      <td>Jupiter Complex, Dr Ranga Road, MYALAPORE, Che...</td>\n",
       "      <td>Boltz Engineering</td>\n",
       "    </tr>\n",
       "    <tr>\n",
       "      <td>13</td>\n",
       "      <td>94A,NORTH PHASE,SIDCO INDUSTRIAL ESTATE, AMBAT...</td>\n",
       "      <td>PSR ENTERPRISES</td>\n",
       "    </tr>\n",
       "  </tbody>\n",
       "</table>\n",
       "</div>"
      ],
      "text/plain": [
       "                                                 Name  \\\n",
       "0   16 Narivanam Salai, mangadu, Chennai, Tamil Na...   \n",
       "1   #10, Uthamar Gandhi Salai, Nungambakkam High R...   \n",
       "2      MMC, Chennai - 51, Chennai, Tamil Nadu, 600051   \n",
       "3   NO:115, DR RADHAKRISHNAN NAGAR, VEPAMPATTU, CH...   \n",
       "4   hanuman colony, injambakkam, chennai, Tamil Na...   \n",
       "5                         Chennai, Tamil Nadu, 600073   \n",
       "6   36/2, IInd, New Tank Bund Rd, Otteri, Chennai,...   \n",
       "7   63/18 FIRST FLOOR 10TH AVENEUE ASHOK NAGAR, CH...   \n",
       "8                         Chennai, Tamil Nadu, 600087   \n",
       "9   18,Viswa Meena Complex,8th Cross Street,Ram Na...   \n",
       "10  12A, John Desikar Street, Nanganallur, Chennai...   \n",
       "11  NO.9, KANCHI NAGAR, VINAYAGAPURAM,, CHENNAI, T...   \n",
       "12  Jupiter Complex, Dr Ranga Road, MYALAPORE, Che...   \n",
       "13  94A,NORTH PHASE,SIDCO INDUSTRIAL ESTATE, AMBAT...   \n",
       "\n",
       "                                  Address  \n",
       "0                      Chennai Renovation  \n",
       "1           Olive Lifestyles Construction  \n",
       "2                  GK Shree Constructions  \n",
       "3             CDC ENGINEERING & CONTRACTS  \n",
       "4   Skypearl construction private limited  \n",
       "5           Civil engineer and contractor  \n",
       "6                  Jhanvi Housing (P) Ltd  \n",
       "7                        KH CONSTRUCTIONS  \n",
       "8                       Aurora Associates  \n",
       "9                          Wahoo Builders  \n",
       "10                              Strucspec  \n",
       "11             CSK BUILDERS AND PROMOTERS  \n",
       "12                      Boltz Engineering  \n",
       "13                        PSR ENTERPRISES  "
      ]
     },
     "execution_count": 140,
     "metadata": {},
     "output_type": "execute_result"
    }
   ],
   "source": [
    "import pandas as pd\n",
    "df = pd.DataFrame({'Name' : results['Name'], 'Address': results['Address']})\n",
    "df\n",
    "# Converting our DataFrame to CSV file\n",
    "# df.to_csv('Contractor_Data.csv')"
   ]
  },
  {
   "cell_type": "code",
   "execution_count": 143,
   "metadata": {},
   "outputs": [
    {
     "name": "stdout",
     "output_type": "stream",
     "text": [
      "https://www.houzz.in/professionals/civil-engineers-and-contractors/c/Chennai--Tamil-Nadu/p/15\n",
      "https://www.houzz.in/professionals/civil-engineers-and-contractors/c/Chennai--Tamil-Nadu/p/30\n",
      "https://www.houzz.in/professionals/civil-engineers-and-contractors/c/Chennai--Tamil-Nadu/p/45\n",
      "https://www.houzz.in/professionals/civil-engineers-and-contractors/c/Chennai--Tamil-Nadu/p/60\n",
      "https://www.houzz.in/professionals/civil-engineers-and-contractors/c/Chennai--Tamil-Nadu/p/75\n",
      "https://www.houzz.in/professionals/civil-engineers-and-contractors/c/Chennai--Tamil-Nadu/p/90\n",
      "https://www.houzz.in/professionals/civil-engineers-and-contractors/c/Chennai--Tamil-Nadu/p/105\n",
      "https://www.houzz.in/professionals/civil-engineers-and-contractors/c/Chennai--Tamil-Nadu/p/120\n",
      "https://www.houzz.in/professionals/civil-engineers-and-contractors/c/Chennai--Tamil-Nadu/p/135\n",
      "https://www.houzz.in/professionals/civil-engineers-and-contractors/c/Chennai--Tamil-Nadu/p/150\n",
      "https://www.houzz.in/professionals/civil-engineers-and-contractors/c/Chennai--Tamil-Nadu/p/165\n",
      "https://www.houzz.in/professionals/civil-engineers-and-contractors/c/Chennai--Tamil-Nadu/p/180\n",
      "https://www.houzz.in/professionals/civil-engineers-and-contractors/c/Chennai--Tamil-Nadu/p/195\n",
      "https://www.houzz.in/professionals/civil-engineers-and-contractors/c/Chennai--Tamil-Nadu/p/210\n"
     ]
    }
   ],
   "source": [
    "for i in range(15, 15*15, 15):\n",
    "    txt = \"https://www.houzz.in/professionals/civil-engineers-and-contractors/c/Chennai--Tamil-Nadu/p/{value}\"\n",
    "    txt = txt.format(value = i)\n",
    "    print(txt)\n",
    "    res=scraper.get_result_similar(txt,group_by_alias=True)\n",
    "    df2 = pd.DataFrame({'Name' : results['Name'], 'Address': results['Address']})\n",
    "    df = pd.concat([df, df2], axis=0)\n",
    "#     results['Address'] = results['Address'].append(res['Address'])"
   ]
  },
  {
   "cell_type": "code",
   "execution_count": 144,
   "metadata": {},
   "outputs": [
    {
     "data": {
      "text/html": [
       "<div>\n",
       "<style scoped>\n",
       "    .dataframe tbody tr th:only-of-type {\n",
       "        vertical-align: middle;\n",
       "    }\n",
       "\n",
       "    .dataframe tbody tr th {\n",
       "        vertical-align: top;\n",
       "    }\n",
       "\n",
       "    .dataframe thead th {\n",
       "        text-align: right;\n",
       "    }\n",
       "</style>\n",
       "<table border=\"1\" class=\"dataframe\">\n",
       "  <thead>\n",
       "    <tr style=\"text-align: right;\">\n",
       "      <th></th>\n",
       "      <th>Name</th>\n",
       "      <th>Address</th>\n",
       "    </tr>\n",
       "  </thead>\n",
       "  <tbody>\n",
       "    <tr>\n",
       "      <td>0</td>\n",
       "      <td>16 Narivanam Salai, mangadu, Chennai, Tamil Na...</td>\n",
       "      <td>Chennai Renovation</td>\n",
       "    </tr>\n",
       "    <tr>\n",
       "      <td>1</td>\n",
       "      <td>#10, Uthamar Gandhi Salai, Nungambakkam High R...</td>\n",
       "      <td>Olive Lifestyles Construction</td>\n",
       "    </tr>\n",
       "    <tr>\n",
       "      <td>2</td>\n",
       "      <td>MMC, Chennai - 51, Chennai, Tamil Nadu, 600051</td>\n",
       "      <td>GK Shree Constructions</td>\n",
       "    </tr>\n",
       "    <tr>\n",
       "      <td>3</td>\n",
       "      <td>NO:115, DR RADHAKRISHNAN NAGAR, VEPAMPATTU, CH...</td>\n",
       "      <td>CDC ENGINEERING &amp; CONTRACTS</td>\n",
       "    </tr>\n",
       "    <tr>\n",
       "      <td>4</td>\n",
       "      <td>hanuman colony, injambakkam, chennai, Tamil Na...</td>\n",
       "      <td>Skypearl construction private limited</td>\n",
       "    </tr>\n",
       "    <tr>\n",
       "      <td>...</td>\n",
       "      <td>...</td>\n",
       "      <td>...</td>\n",
       "    </tr>\n",
       "    <tr>\n",
       "      <td>9</td>\n",
       "      <td>18,Viswa Meena Complex,8th Cross Street,Ram Na...</td>\n",
       "      <td>Wahoo Builders</td>\n",
       "    </tr>\n",
       "    <tr>\n",
       "      <td>10</td>\n",
       "      <td>12A, John Desikar Street, Nanganallur, Chennai...</td>\n",
       "      <td>Strucspec</td>\n",
       "    </tr>\n",
       "    <tr>\n",
       "      <td>11</td>\n",
       "      <td>NO.9, KANCHI NAGAR, VINAYAGAPURAM,, CHENNAI, T...</td>\n",
       "      <td>CSK BUILDERS AND PROMOTERS</td>\n",
       "    </tr>\n",
       "    <tr>\n",
       "      <td>12</td>\n",
       "      <td>Jupiter Complex, Dr Ranga Road, MYALAPORE, Che...</td>\n",
       "      <td>Boltz Engineering</td>\n",
       "    </tr>\n",
       "    <tr>\n",
       "      <td>13</td>\n",
       "      <td>94A,NORTH PHASE,SIDCO INDUSTRIAL ESTATE, AMBAT...</td>\n",
       "      <td>PSR ENTERPRISES</td>\n",
       "    </tr>\n",
       "  </tbody>\n",
       "</table>\n",
       "<p>210 rows × 2 columns</p>\n",
       "</div>"
      ],
      "text/plain": [
       "                                                 Name  \\\n",
       "0   16 Narivanam Salai, mangadu, Chennai, Tamil Na...   \n",
       "1   #10, Uthamar Gandhi Salai, Nungambakkam High R...   \n",
       "2      MMC, Chennai - 51, Chennai, Tamil Nadu, 600051   \n",
       "3   NO:115, DR RADHAKRISHNAN NAGAR, VEPAMPATTU, CH...   \n",
       "4   hanuman colony, injambakkam, chennai, Tamil Na...   \n",
       "..                                                ...   \n",
       "9   18,Viswa Meena Complex,8th Cross Street,Ram Na...   \n",
       "10  12A, John Desikar Street, Nanganallur, Chennai...   \n",
       "11  NO.9, KANCHI NAGAR, VINAYAGAPURAM,, CHENNAI, T...   \n",
       "12  Jupiter Complex, Dr Ranga Road, MYALAPORE, Che...   \n",
       "13  94A,NORTH PHASE,SIDCO INDUSTRIAL ESTATE, AMBAT...   \n",
       "\n",
       "                                  Address  \n",
       "0                      Chennai Renovation  \n",
       "1           Olive Lifestyles Construction  \n",
       "2                  GK Shree Constructions  \n",
       "3             CDC ENGINEERING & CONTRACTS  \n",
       "4   Skypearl construction private limited  \n",
       "..                                    ...  \n",
       "9                          Wahoo Builders  \n",
       "10                              Strucspec  \n",
       "11             CSK BUILDERS AND PROMOTERS  \n",
       "12                      Boltz Engineering  \n",
       "13                        PSR ENTERPRISES  \n",
       "\n",
       "[210 rows x 2 columns]"
      ]
     },
     "execution_count": 144,
     "metadata": {},
     "output_type": "execute_result"
    }
   ],
   "source": [
    "df "
   ]
  },
  {
   "cell_type": "code",
   "execution_count": 149,
   "metadata": {},
   "outputs": [],
   "source": [
    "df.to_csv('Contractors.csv')"
   ]
  },
  {
   "cell_type": "code",
   "execution_count": null,
   "metadata": {},
   "outputs": [],
   "source": []
  }
 ],
 "metadata": {
  "kernelspec": {
   "display_name": "Python 3",
   "language": "python",
   "name": "python3"
  },
  "language_info": {
   "codemirror_mode": {
    "name": "ipython",
    "version": 3
   },
   "file_extension": ".py",
   "mimetype": "text/x-python",
   "name": "python",
   "nbconvert_exporter": "python",
   "pygments_lexer": "ipython3",
   "version": "3.7.4"
  }
 },
 "nbformat": 4,
 "nbformat_minor": 2
}
